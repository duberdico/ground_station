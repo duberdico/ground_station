{
 "cells": [
  {
   "cell_type": "code",
   "execution_count": null,
   "metadata": {},
   "outputs": [],
   "source": [
    "import skyfield.api as sf \n",
    "import os \n",
    "import pandas as pd \n",
    "import json \n"
   ]
  },
  {
   "cell_type": "code",
   "execution_count": 1,
   "metadata": {},
   "outputs": [],
   "source": [
    "def read_TLE(TLE_dir):\n",
    "    if os.path.isdir(TLE_dir): \n",
    "        satellites = {} \n",
    "        files = os.listdir(TLE_dir) \n",
    "        for file in files: \n",
    "            if file.endswith(\".txt\"): \n",
    "                satellites.update(sf.load.tle(os.path.join(TLE_dir,file))) \n",
    "    return satellites \n"
   ]
  },
  {
   "cell_type": "code",
   "execution_count": 2,
   "metadata": {},
   "outputs": [],
   "source": [
    "def read_config(config_json): \n",
    "    if os.path.isfile(config_json): \n",
    "        with open(config_json, 'r') as f: \n",
    "            config_data = json.load(f) \n",
    "    return(config_data) "
   ]
  },
  {
   "cell_type": "code",
   "execution_count": null,
   "metadata": {},
   "outputs": [],
   "source": [
    "def main(): \n",
    "    TLE_dir = '/usr/local/etc/TLE'                      # Define the main function \n",
    "    config_json = read_config('config.json') \n",
    "    if config_json: \n",
    "    sf.Topos(config_json['Location']['Latitude'], config_json['Location']['Longitude']) \n",
    "    TLEs = read_TLE(TLE_dir) \n",
    "    print(TLEs) \n",
    "    for satellite in config_json[\"Satellites\"]: \n",
    "        if satellite in TLEs.keys(): \n",
    "            # predict next satellite passes for today \n",
    "            ts = sf.load.timescale() \n",
    "            t = ts.now() \n",
    "            #cur_sat = sf.EarthSatellite(TLEs[satellite]) \n",
    "            print(satellite) \n",
    "            print(TLEs[satellite]) \n",
    "            print(type(TLEs[satellite])) "
   ]
  },
  {
   "cell_type": "code",
   "execution_count": null,
   "metadata": {},
   "outputs": [],
   "source": []
  }
 ],
 "metadata": {
  "kernelspec": {
   "display_name": "Python 3",
   "language": "python",
   "name": "python3"
  },
  "language_info": {
   "codemirror_mode": {
    "name": "ipython",
    "version": 3
   },
   "file_extension": ".py",
   "mimetype": "text/x-python",
   "name": "python",
   "nbconvert_exporter": "python",
   "pygments_lexer": "ipython3",
   "version": "3.6.5"
  }
 },
 "nbformat": 4,
 "nbformat_minor": 2
}
