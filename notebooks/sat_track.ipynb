{
 "cells": [
  {
   "cell_type": "code",
   "execution_count": 1,
   "metadata": {},
   "outputs": [],
   "source": [
    "import skyfield.api as sf \n",
    "import os \n",
    "import pandas as pd \n",
    "import json \n",
    "import numpy as np\n",
    "import matplotlib.pyplot as plt\n"
   ]
  },
  {
   "cell_type": "code",
   "execution_count": 2,
   "metadata": {},
   "outputs": [],
   "source": [
    "data = {'Satellites': [{'Name':'NOAA 18 [B]','Frequency_kHz':137000},\n",
    "                      {'Name':'NOAA 15 [B]','Frequency_kHz':137000}],\n",
    "        'Altitude_threshold_degrees': 20,\n",
    "        'Location': {'Latitude': 55.7933,'Longitude': -4.8672},\n",
    "        'TLE_dir':'.'}\n",
    "with open('config.json', 'w') as f:\n",
    "    json.dump(data, f, ensure_ascii=True)"
   ]
  },
  {
   "cell_type": "code",
   "execution_count": 3,
   "metadata": {},
   "outputs": [],
   "source": [
    "def read_TLE(TLE_dir):\n",
    "    if os.path.isdir(TLE_dir): \n",
    "        satellites = {} \n",
    "        files = os.listdir(TLE_dir) \n",
    "        for file in files: \n",
    "            if file.endswith(\".txt\"): \n",
    "                satellites.update(sf.load.tle(os.path.join(TLE_dir,file))) \n",
    "    return satellites \n"
   ]
  },
  {
   "cell_type": "code",
   "execution_count": 4,
   "metadata": {},
   "outputs": [],
   "source": [
    "def read_config(config_json): \n",
    "    if os.path.isfile(config_json): \n",
    "        with open(config_json, 'r') as f: \n",
    "            config_data = json.load(f) \n",
    "    return(config_data) "
   ]
  },
  {
   "cell_type": "code",
   "execution_count": 5,
   "metadata": {},
   "outputs": [],
   "source": [
    "def doppler_shift (f,delta_v):\n",
    "    pass"
   ]
  },
  {
   "cell_type": "code",
   "execution_count": 23,
   "metadata": {},
   "outputs": [],
   "source": [
    "c = 299792458"
   ]
  },
  {
   "cell_type": "code",
   "execution_count": 94,
   "metadata": {},
   "outputs": [],
   "source": [
    "def next_pass (config_json):\n",
    "    TLEs = read_TLE(TLE_dir) \n",
    "    station = sf.Topos(config_json['Location']['Latitude'], config_json['Location']['Longitude']) \n",
    "    satellites = config_json[\"Satellites\"]\n",
    "    ts = sf.load.timescale() \n",
    "    t = ts.now() \n",
    "    print('now time is {0} UTC'.format(t.utc_datetime()))\n",
    "    d = ts.utc(t.utc[0], t.utc[1], t.utc[2]+1) - t\n",
    "    #T = ts.tt_jd(t.tt + np.array(range(0,int(d * 8640))) * (1/8640))\n",
    "    T = ts.tt_jd(t.tt + np.array(range(0,8640)) * (1/8640))\n",
    "    last_duration = 0\n",
    "    for satellite in satellites: \n",
    "        if satellite['Name'] in TLEs.keys(): \n",
    "            geocentric = TLEs[satellite['Name']].at(T)\n",
    "            subpoint = geocentric.subpoint()\n",
    "            loc_difference = TLEs[satellite['Name']] - station\n",
    "            topocentric = loc_difference.at(T)\n",
    "            alt, az, distance = topocentric.altaz()\n",
    "            \n",
    "            # separate periods\n",
    "            j = (alt.degrees >= 0) * 1\n",
    "            k = j[1:] - j[0:-1]\n",
    "            s = np.argwhere(k == 1).reshape(-1)\n",
    "            e = np.argwhere(k == -1).reshape(-1)\n",
    "            for si in s:\n",
    "                h = e[e>si].reshape(-1).min()\n",
    "                if h > 0:\n",
    "                    if (alt.degrees[si:h] >= config_json[\"Altitude_threshold_degrees\"]).any():\n",
    "                        cur_duration = T[h] - T[si]\n",
    "                        if cur_duration > last_duration:\n",
    "                            last_duration =  cur_duration\n",
    "                            cur_df = pd.DataFrame(data=None)\n",
    "                            delta_t = np.diff(T[si-1:h]) * 86400 # seconds\n",
    "                            cur_df['Azimuth_degrees'] = az.degrees[si:h]\n",
    "                            cur_df['Distance_km'] = distance.km[si:h]\n",
    "                            cur_df['Altitude_degrees'] = alt.degrees[si:h]\n",
    "                            cur_df['Latitude'] = subpoint.latitude.degrees[si:h]\n",
    "                            cur_df['Longitude'] = subpoint.longitude.degrees[si:h]\n",
    "                            cur_df['UTC_time'] = T.utc_datetime()[si:h]\n",
    "                            delta_distance_meter = np.diff(distance.km[si-1:h]) * 1e3\n",
    "                            range_rate = delta_distance_meter / delta_t\n",
    "                            cur_df['doppler_shift'] =  (1-(range_rate / c)) \n",
    "                            cur_df['Satellite'] = satellite['Name']\n",
    "                            break\n",
    "    return cur_df\n",
    "            #cur_df['Elevation'] = subpoint.elevation"
   ]
  },
  {
   "cell_type": "code",
   "execution_count": 113,
   "metadata": {},
   "outputs": [],
   "source": [
    "def record_pass(pass_df):\n",
    "    pass_duration = pass_df.iloc[-1]['UTC_time'] - pass_df.iloc[0]['UTC_time']\n",
    "    print('pass will last {0} seconds'.format(pass_duration.seconds))\n",
    "    #sox -b 32 -e unsigned-integer -r 96k -c 2 -d --clobber --buffer $((96000*2*10)) /tmp/soxrecording.wav trim 0 10\n",
    "    #s = ['sox', '-b 16', '-r 192k',path/to/silence.wav',]\n",
    "    #subprocess.call(s)\n",
    "    for row in pass_df.iterrows():\n",
    "        pass\n",
    "        #print(row)"
   ]
  },
  {
   "cell_type": "code",
   "execution_count": 115,
   "metadata": {},
   "outputs": [
    {
     "name": "stdout",
     "output_type": "stream",
     "text": [
      "now time is 2019-01-07 07:34:54.636000+00:00 UTC\n",
      "next pass is of NOAA 18 [B] starting at UTC 2019-01-07 08:39:34.636000+00:00\n"
     ]
    },
    {
     "data": {
      "image/png": "[encoded data removed]",
      "text/plain": [
       "<matplotlib.figure.Figure at 0x26937f9e2e8>"
      ]
     },
     "metadata": {},
     "output_type": "display_data"
    },
    {
     "name": "stdout",
     "output_type": "stream",
     "text": [
      "3874\n",
      "pass will last 930 seconds\n"
     ]
    }
   ],
   "source": [
    "day_pd = pd.DataFrame(data=None)\n",
    "TLE_dir = '/usr/local/etc/TLE'                      # Define the main function \n",
    "config_json = read_config('config.json') \n",
    "if 'TLE_dir' in config_json.keys():\n",
    "    if os.path.isdir(config_json['TLE_dir']):\n",
    "        TLE_dir = config_json['TLE_dir']\n",
    "# check that SOX is available\n",
    "\n",
    "if config_json: \n",
    "    pass_df = next_pass(config_json)\n",
    "    print('next pass is of {0} starting at UTC {1}'.format(pass_df.iloc[0]['Satellite'],pass_df.iloc[0]['UTC_time']))\n",
    "    plt.figure()\n",
    "    ax = plt.subplot(122, projection='polar')\n",
    "    ax.plot(pass_df['Azimuth_degrees']*np.pi/180, 90-pass_df['Altitude_degrees'],'b-')\n",
    "    ax.set_ylim(bottom = 0,top = 90)\n",
    "    ax.set_theta_zero_location(\"N\")\n",
    "    ax.set_yticklabels([])\n",
    "    ax = plt.subplot(121 )\n",
    "    ax.plot_date(pass_df['UTC_time'], 100* pass_df['doppler_shift'] ,'b-')\n",
    "    ax.grid()\n",
    "    plt.title(pass_df.iloc[0]['Satellite'])\n",
    "    plt.show()\n",
    "    ts = sf.load.timescale() \n",
    "    # time until next pass\n",
    "    wait_time = pass_df.iloc[0]['UTC_time']  - ts.now().utc_datetime()\n",
    "    print(wait_time.seconds)\n",
    "    # wait until next pass\n",
    "    # record pass\n",
    "    record_pass(pass_df)\n",
    "#s = ['sox', '-m', 'path/to/silence.wav',]\n",
    "#subprocess.call(s)\n",
    "            "
   ]
  },
  {
   "cell_type": "code",
   "execution_count": null,
   "metadata": {},
   "outputs": [],
   "source": []
  },
  {
   "cell_type": "code",
   "execution_count": 110,
   "metadata": {},
   "outputs": [],
   "source": [
    "duration = pass_df.iloc[-1]['UTC_time'] - pass_df.iloc[0]['UTC_time']"
   ]
  },
  {
   "cell_type": "code",
   "execution_count": 112,
   "metadata": {},
   "outputs": [
    {
     "data": {
      "text/plain": [
       "15.5"
      ]
     },
     "execution_count": 112,
     "metadata": {},
     "output_type": "execute_result"
    }
   ],
   "source": [
    "duration.seconds/60"
   ]
  },
  {
   "cell_type": "code",
   "execution_count": null,
   "metadata": {},
   "outputs": [],
   "source": []
  },
  {
   "cell_type": "code",
   "execution_count": null,
   "metadata": {},
   "outputs": [],
   "source": []
  },
  {
   "cell_type": "code",
   "execution_count": null,
   "metadata": {},
   "outputs": [],
   "source": []
  },
  {
   "cell_type": "code",
   "execution_count": null,
   "metadata": {},
   "outputs": [],
   "source": []
  },
  {
   "cell_type": "code",
   "execution_count": null,
   "metadata": {},
   "outputs": [],
   "source": []
  }
 ],
 "metadata": {
  "kernelspec": {
   "display_name": "Python 3",
   "language": "python",
   "name": "python3"
  },
  "language_info": {
   "codemirror_mode": {
    "name": "ipython",
    "version": 3
   },
   "file_extension": ".py",
   "mimetype": "text/x-python",
   "name": "python",
   "nbconvert_exporter": "python",
   "pygments_lexer": "ipython3",
   "version": "3.6.4"
  }
 },
 "nbformat": 4,
 "nbformat_minor": 2
}
